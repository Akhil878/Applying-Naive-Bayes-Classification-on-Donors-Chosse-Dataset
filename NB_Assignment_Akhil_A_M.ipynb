{
 "cells": [
  {
   "cell_type": "markdown",
   "metadata": {
    "id": "Dnubs-Nnb3cw"
   },
   "source": [
    "# Assignment 6: Apply NB"
   ]
  },
  {
   "cell_type": "markdown",
   "metadata": {
    "id": "RW0zYHb5m_wI"
   },
   "source": [
    "<ol>\n",
    "    <li>Minimum data points need to be considered for people having 4GB RAM is <strong>50k</strong> and for 8GB RAM is <strong>100k</strong></li>\n",
    "    <li>When you are using ramdomsearchcv or gridsearchcv you need not split the data into X_train,X_cv,X_test. As the above methods use kfold. The model will learn better if train data is more so splitting to X_train,X_test will suffice.</li>\n",
    "    <li>If you are writing for loops to tune your model then you need split the data into X_train,X_cv,X_test.</li>\n",
    "    <li>While splitting the data explore stratify parameter. </li>\n",
    "    <li><strong>Apply Multinomial NB on these feature sets</strong></li>\n",
    "        <ul>\n",
    "            <li>Features that need to be considered</li> \n",
    "                <dl>\n",
    "                  <dt>essay</dt>\n",
    "                    <dd>while encoding essay, try to experiment with the max_features and n_grams parameter of vectorizers and see if it increases AUC score.</dd>\n",
    "                  <dt>categorical features</dt>\n",
    "                  <dd> - teacher_prefix</dd>\n",
    "                  <dd> - project_grade_category</dd>\n",
    "                  <dd> - school_state</dd>\n",
    "                  <dd> - clean_categories</dd>\n",
    "                  <dd> - clean_subcategories</dd>\n",
    "                  <dt>numerical features</dt>\n",
    "                  <dd> - price</dd>\n",
    "                  <dd> - teacher_number_of_previously_posted_projects</dd>\n",
    "                  <dd>while encoding the numerical features check <a href='https://imgur.com/ldZA1zg'>this</a> and <a href='https://ac-classroom-production.s3.amazonaws.com/public/COMMENT/Annotation_2020-05-21_225912_0lyZzN8.jpg'>this</a></dd>\n",
    "                </dl>    \n",
    "            <li><font color='red'>Set 1</font>: categorical, numerical features + preprocessed_eassay (BOW)</li>\n",
    "            <li><font color='red'>Set 2</font>: categorical, numerical features + preprocessed_eassay (TFIDF)</li>\n",
    "        </ul>\n",
    "    <li><strong>The hyper paramter tuning(find best alpha:smoothing parameter)</strong>\n",
    "        <ul>\n",
    "    <li>Consider alpha values in range: 10^-5 to 10^2 like [0.00001,0.0005, 0.0001,0.005,0.001,0.05,0.01,0.1,0.5,1,5,10,50,100]</li>\n",
    "    <li>Explore class_prior = [0.5, 0.5] parameter which can be present in MultinomialNB function(go through <a href='https://scikit-learn.org/stable/modules/generated/sklearn.naive_bayes.MultinomialNB.html'>this</a> ) then check how results might change.\n",
    "    <li>Find the best hyper parameter which will give the maximum <a href='https://www.appliedaicourse.com/course/applied-ai-course-online/lessons/receiver-operating-characteristic-curve-roc-curve-and-auc-1/'>AUC</a> value</li>\n",
    "    <li>For hyper parameter tuning using k-fold cross validation(use GridsearchCV or RandomsearchCV)/simple cross validation data (write for loop to iterate over hyper parameter values)</li>\n",
    "    <li>You need to plot the performance of model both on train data and cross validation data for each hyper parameter, like shown in the figure\n",
    "    <img src='https://i.imgur.com/hUv6aEy.jpg' width=300px><dd>-while plotting take log(alpha) on your X-axis so that it will be more readable</dd></li>\n",
    "    <li>Once after you found the best hyper parameter, you need to train your model with it, and find the AUC on test data and plot the ROC curve on both train and test.\n",
    "    <img src='https://imgur.com/q2P65L5.jpg' width=300px></li>\n",
    "    <li>Along with plotting ROC curve, you need to print the <a href='https://www.appliedaicourse.com/course/applied-ai-course-online/lessons/confusion-matrix-tpr-fpr-fnr-tnr-1/'>confusion matrix</a> with predicted and original labels of test data points\n",
    "        <img src='https://i.imgur.com/IdN5Ctv.png' width=300px><dd>-plot the confusion matrix in heatmaps, while plotting the confusion matrix go through the <a href='https://stackoverflow.com/questions/61748441/how-to-fix-the-values-displayed-in-a-confusion-matrix-in-exponential-form-to-nor'>link </a>\n",
    "</dd></li>\n",
    "        </ul>\n",
    "<li>find the top 20 features from either from feature <font color='red'>Set 1</font> or feature <font color='red'>Set 2</font> using values of `feature_log_prob_ ` parameter of `MultinomialNB` \n",
    "(https://scikit-learn.org/stable/modules/generated/sklearn.naive_bayes.MultinomialNB.html) and print <strong>BOTH</strong> positive as well as negative corresponding feature names. <dd> - go through the <a href='https://imgur.com/mWvE7gj'>link </a> </dd>\n",
    "    </li>\n",
    "    <li>You need to summarize the results at the end of the notebook, summarize it in the table format\n",
    "        <img src='http://i.imgur.com/YVpIGGE.jpg' width=400px>\n",
    "    </li>\n",
    "</ol>"
   ]
  },
  {
   "cell_type": "code",
   "execution_count": 1,
   "metadata": {
    "id": "chpSjDaXm9KG"
   },
   "outputs": [],
   "source": [
    "%matplotlib inline\n",
    "import warnings\n",
    "warnings.filterwarnings(\"ignore\")\n",
    "\n",
    "import pandas as pd\n",
    "import numpy as np\n",
    "import matplotlib.pyplot as plt\n",
    "import seaborn as sns\n",
    "from sklearn.feature_extraction.text import TfidfVectorizer\n",
    "from sklearn.feature_extraction.text import CountVectorizer\n",
    "from sklearn.metrics import confusion_matrix\n",
    "from sklearn import metrics\n",
    "from sklearn.metrics import roc_curve, auc\n",
    "\n",
    "import re\n",
    "# Tutorial about Python regular expressions: https://pymotw.com/2/re/\n",
    "\n",
    "import pickle\n",
    "from tqdm import tqdm\n",
    "import os"
   ]
  },
  {
   "cell_type": "code",
   "execution_count": 2,
   "metadata": {},
   "outputs": [
    {
     "data": {
      "text/plain": [
       "'C:\\\\Users\\\\amakh'"
      ]
     },
     "execution_count": 2,
     "metadata": {},
     "output_type": "execute_result"
    }
   ],
   "source": [
    "os.getcwd()"
   ]
  },
  {
   "cell_type": "code",
   "execution_count": 3,
   "metadata": {},
   "outputs": [],
   "source": [
    "os.chdir(\"C:\\\\Users\\\\amakh\\\\Downloads\")"
   ]
  },
  {
   "cell_type": "markdown",
   "metadata": {
    "id": "inzYCIaib3c3"
   },
   "source": [
    "<h1>2. Naive Bayes </h1>"
   ]
  },
  {
   "cell_type": "markdown",
   "metadata": {
    "id": "FYqCIxzFb3c5"
   },
   "source": [
    "## 1.1 Loading Data"
   ]
  },
  {
   "cell_type": "code",
   "execution_count": 5,
   "metadata": {
    "id": "dA1jknyqb3c_"
   },
   "outputs": [
    {
     "data": {
      "text/html": [
       "<div>\n",
       "<style scoped>\n",
       "    .dataframe tbody tr th:only-of-type {\n",
       "        vertical-align: middle;\n",
       "    }\n",
       "\n",
       "    .dataframe tbody tr th {\n",
       "        vertical-align: top;\n",
       "    }\n",
       "\n",
       "    .dataframe thead th {\n",
       "        text-align: right;\n",
       "    }\n",
       "</style>\n",
       "<table border=\"1\" class=\"dataframe\">\n",
       "  <thead>\n",
       "    <tr style=\"text-align: right;\">\n",
       "      <th></th>\n",
       "      <th>school_state</th>\n",
       "      <th>teacher_prefix</th>\n",
       "      <th>project_grade_category</th>\n",
       "      <th>teacher_number_of_previously_posted_projects</th>\n",
       "      <th>project_is_approved</th>\n",
       "      <th>clean_categories</th>\n",
       "      <th>clean_subcategories</th>\n",
       "      <th>essay</th>\n",
       "      <th>price</th>\n",
       "    </tr>\n",
       "  </thead>\n",
       "  <tbody>\n",
       "    <tr>\n",
       "      <th>0</th>\n",
       "      <td>ca</td>\n",
       "      <td>mrs</td>\n",
       "      <td>grades_prek_2</td>\n",
       "      <td>53</td>\n",
       "      <td>1</td>\n",
       "      <td>math_science</td>\n",
       "      <td>appliedsciences health_lifescience</td>\n",
       "      <td>i fortunate enough use fairy tale stem kits cl...</td>\n",
       "      <td>725.05</td>\n",
       "    </tr>\n",
       "    <tr>\n",
       "      <th>1</th>\n",
       "      <td>ut</td>\n",
       "      <td>ms</td>\n",
       "      <td>grades_3_5</td>\n",
       "      <td>4</td>\n",
       "      <td>1</td>\n",
       "      <td>specialneeds</td>\n",
       "      <td>specialneeds</td>\n",
       "      <td>imagine 8 9 years old you third grade classroo...</td>\n",
       "      <td>213.03</td>\n",
       "    </tr>\n",
       "    <tr>\n",
       "      <th>2</th>\n",
       "      <td>ca</td>\n",
       "      <td>mrs</td>\n",
       "      <td>grades_prek_2</td>\n",
       "      <td>10</td>\n",
       "      <td>1</td>\n",
       "      <td>literacy_language</td>\n",
       "      <td>literacy</td>\n",
       "      <td>having class 24 students comes diverse learner...</td>\n",
       "      <td>329.00</td>\n",
       "    </tr>\n",
       "    <tr>\n",
       "      <th>3</th>\n",
       "      <td>ga</td>\n",
       "      <td>mrs</td>\n",
       "      <td>grades_prek_2</td>\n",
       "      <td>2</td>\n",
       "      <td>1</td>\n",
       "      <td>appliedlearning</td>\n",
       "      <td>earlydevelopment</td>\n",
       "      <td>i recently read article giving students choice...</td>\n",
       "      <td>481.04</td>\n",
       "    </tr>\n",
       "    <tr>\n",
       "      <th>4</th>\n",
       "      <td>wa</td>\n",
       "      <td>mrs</td>\n",
       "      <td>grades_3_5</td>\n",
       "      <td>2</td>\n",
       "      <td>1</td>\n",
       "      <td>literacy_language</td>\n",
       "      <td>literacy</td>\n",
       "      <td>my students crave challenge eat obstacles brea...</td>\n",
       "      <td>17.74</td>\n",
       "    </tr>\n",
       "  </tbody>\n",
       "</table>\n",
       "</div>"
      ],
      "text/plain": [
       "  school_state teacher_prefix project_grade_category  \\\n",
       "0           ca            mrs          grades_prek_2   \n",
       "1           ut             ms             grades_3_5   \n",
       "2           ca            mrs          grades_prek_2   \n",
       "3           ga            mrs          grades_prek_2   \n",
       "4           wa            mrs             grades_3_5   \n",
       "\n",
       "   teacher_number_of_previously_posted_projects  project_is_approved  \\\n",
       "0                                            53                    1   \n",
       "1                                             4                    1   \n",
       "2                                            10                    1   \n",
       "3                                             2                    1   \n",
       "4                                             2                    1   \n",
       "\n",
       "    clean_categories                 clean_subcategories  \\\n",
       "0       math_science  appliedsciences health_lifescience   \n",
       "1       specialneeds                        specialneeds   \n",
       "2  literacy_language                            literacy   \n",
       "3    appliedlearning                    earlydevelopment   \n",
       "4  literacy_language                            literacy   \n",
       "\n",
       "                                               essay   price  \n",
       "0  i fortunate enough use fairy tale stem kits cl...  725.05  \n",
       "1  imagine 8 9 years old you third grade classroo...  213.03  \n",
       "2  having class 24 students comes diverse learner...  329.00  \n",
       "3  i recently read article giving students choice...  481.04  \n",
       "4  my students crave challenge eat obstacles brea...   17.74  "
      ]
     },
     "execution_count": 5,
     "metadata": {},
     "output_type": "execute_result"
    }
   ],
   "source": [
    "#make sure you are loading atleast 50k datapoints\n",
    "#you can work with features of preprocessed_data.csv for the assignment.\n",
    "# If you want to add more features, you can add. (This is purely optional, not mandatory)\n",
    "\n",
    "import pandas\n",
    "data = pandas.read_csv('preprocessed_data.csv')\n",
    "data.head()"
   ]
  },
  {
   "cell_type": "code",
   "execution_count": 6,
   "metadata": {
    "scrolled": true
   },
   "outputs": [
    {
     "data": {
      "text/plain": [
       "Index(['school_state', 'teacher_prefix', 'project_grade_category',\n",
       "       'teacher_number_of_previously_posted_projects', 'project_is_approved',\n",
       "       'clean_categories', 'clean_subcategories', 'essay', 'price'],\n",
       "      dtype='object')"
      ]
     },
     "execution_count": 6,
     "metadata": {},
     "output_type": "execute_result"
    }
   ],
   "source": [
    "#Checking the column names for the dataset\n",
    "data.columns"
   ]
  },
  {
   "cell_type": "markdown",
   "metadata": {
    "id": "WtVV13Fyb3dH"
   },
   "source": [
    "<h2>1.2 Splitting data into Train and cross validation(or test): Stratified Sampling</h2>"
   ]
  },
  {
   "cell_type": "code",
   "execution_count": 7,
   "metadata": {},
   "outputs": [],
   "source": [
    "#Taking \"project_is_approved\" as y and all other features as x\n",
    "\n",
    "y = data[\"project_is_approved\"].values\n",
    "x = data"
   ]
  },
  {
   "cell_type": "code",
   "execution_count": 8,
   "metadata": {},
   "outputs": [
    {
     "name": "stdout",
     "output_type": "stream",
     "text": [
      "(76473, 9) (76473,)\n",
      "(32775, 9) (32775,)\n"
     ]
    }
   ],
   "source": [
    "from sklearn.model_selection import train_test_split\n",
    "#Taking test data as 30%\n",
    "x_train, x_test, y_train, y_test = train_test_split(x, y, test_size=0.3, stratify=y)\n",
    "\n",
    "print(x_train.shape, y_train.shape)\n",
    "print(x_test.shape, y_test.shape)"
   ]
  },
  {
   "cell_type": "markdown",
   "metadata": {},
   "source": [
    "<h2>1.3 Make Data Model Ready: encoding eassay</h2>"
   ]
  },
  {
   "cell_type": "markdown",
   "metadata": {},
   "source": [
    "<h3>1.3.1 Applying Bag of Words Vectorization on essay feature</h3>"
   ]
  },
  {
   "cell_type": "code",
   "execution_count": 12,
   "metadata": {},
   "outputs": [
    {
     "name": "stdout",
     "output_type": "stream",
     "text": [
      "(76473, 5000)\n",
      "(32775, 5000)\n"
     ]
    }
   ],
   "source": [
    "#BOW on text data\n",
    "\n",
    "essay_countVectorizer = CountVectorizer(min_df=10,max_features= 5000)\n",
    "essay_countVectorizer.fit(x_train['essay'].values)\n",
    "\n",
    "\n",
    "#converting text to vector using vectorizer\n",
    "x_train_essay_BOW = essay_countVectorizer.transform(x_train['essay'].values)\n",
    "x_test_essay_BOW = essay_countVectorizer.transform(x_test['essay'].values)\n",
    "\n",
    "#Checking if the train and test data size remains same after applying encoding\n",
    "\n",
    "print(x_train_essay_BOW.shape)\n",
    "print(x_test_essay_BOW.shape)"
   ]
  },
  {
   "cell_type": "markdown",
   "metadata": {},
   "source": [
    "<h3>1.3.2 Applying TFIDF vectorizer on essay feature</h3>"
   ]
  },
  {
   "cell_type": "code",
   "execution_count": 11,
   "metadata": {},
   "outputs": [
    {
     "name": "stdout",
     "output_type": "stream",
     "text": [
      "(76473, 5000)\n",
      "(32775, 5000)\n"
     ]
    }
   ],
   "source": [
    "#TFIDF vectozier on text data\n",
    "essay_tfidf_vectorizer = TfidfVectorizer(min_df= 10,max_features= 5000)\n",
    "essay_tfidf_vectorizer.fit(x_train['essay'].values)\n",
    "\n",
    "#converting text to vector using vectorizer\n",
    "x_train_essay_tfidf = essay_tfidf_vectorizer.transform(x_train['essay'].values)\n",
    "x_test_essay_tfidf = essay_tfidf_vectorizer.transform(x_test['essay'].values)\n",
    "\n",
    "#Checking if the train and test data size remains same after applying encoding\n",
    "\n",
    "print(x_train_essay_tfidf.shape)\n",
    "print(x_test_essay_tfidf.shape)"
   ]
  },
  {
   "cell_type": "markdown",
   "metadata": {},
   "source": [
    "<h2>1.4 Make Data Model Ready: encoding numerical, categorical features</h2>"
   ]
  },
  {
   "cell_type": "markdown",
   "metadata": {},
   "source": [
    "<h3>1.4.1 Encoding of numerical features : teacher_number_of_previously_posted_projects</h3>"
   ]
  },
  {
   "cell_type": "code",
   "execution_count": 47,
   "metadata": {},
   "outputs": [
    {
     "name": "stdout",
     "output_type": "stream",
     "text": [
      "(76473, 1)\n",
      "(32775, 1)\n"
     ]
    }
   ],
   "source": [
    "#Scaling the numerical features\n",
    "from sklearn.preprocessing import Normalizer\n",
    "scaler = Normalizer()\n",
    "\n",
    "scaler.fit(x_train['teacher_number_of_previously_posted_projects'].values.reshape(-1,1))\n",
    "\n",
    "x_train_no_pre_projects_scaled = scaler.transform(x_train['teacher_number_of_previously_posted_projects'].values.reshape(-1,1))\n",
    "x_test_no_pre_projects_scaled = scaler.transform(x_test['teacher_number_of_previously_posted_projects'].values.reshape(-1,1))\n",
    "\n",
    "#Checking if the train and test data size remains same after applying normalization\n",
    "\n",
    "print(x_train_no_pre_projects_scaled.shape)\n",
    "print(x_test_no_pre_projects_scaled.shape)"
   ]
  },
  {
   "cell_type": "markdown",
   "metadata": {},
   "source": [
    "<h3>1.4.2 Encoding of numerical features : price</h3>"
   ]
  },
  {
   "cell_type": "code",
   "execution_count": 49,
   "metadata": {},
   "outputs": [
    {
     "name": "stdout",
     "output_type": "stream",
     "text": [
      "(76473, 1)\n",
      "(32775, 1)\n"
     ]
    }
   ],
   "source": [
    "#Scaling the numerical features\n",
    "\n",
    "scaler = Normalizer()\n",
    "\n",
    "normalizer.fit(x_train['price'].values.reshape(-1,1))\n",
    "x_train_price_scaled = normalizer.transform(x_train['price'].values.reshape(-1,1))\n",
    "x_test_price_scaled = normalizer.transform(x_test['price'].values.reshape(-1,1))\n",
    "\n",
    "#Checking if the train and test data size remains same after applying normalization\n",
    "\n",
    "print(x_train_price_scaled.shape)\n",
    "print(x_test_price_scaled.shape)"
   ]
  },
  {
   "cell_type": "markdown",
   "metadata": {},
   "source": [
    "<h3>1.4.3 Encoding of categorical features : school_state</h3>"
   ]
  },
  {
   "cell_type": "code",
   "execution_count": 15,
   "metadata": {},
   "outputs": [
    {
     "name": "stdout",
     "output_type": "stream",
     "text": [
      "(76473, 51)\n",
      "(32775, 51)\n"
     ]
    }
   ],
   "source": [
    "#Performing one hot encoding on categorical features\n",
    "vectorizer = CountVectorizer()\n",
    "x_train_school_state_encoded = vectorizer.fit_transform(x_train['school_state'].values)\n",
    "x_test_school_state_encoded = vectorizer.fit_transform(x_test['school_state'].values)\n",
    "\n",
    "#Checking if the train and test data size remains same after applying one hot encoding\n",
    "print(x_train_school_state_encoded.shape)\n",
    "print(x_test_school_state_encoded.shape)"
   ]
  },
  {
   "cell_type": "markdown",
   "metadata": {},
   "source": [
    "<h3> 1.4.4 Encoding of categorical features : teacher_prefix</h3>"
   ]
  },
  {
   "cell_type": "code",
   "execution_count": 20,
   "metadata": {},
   "outputs": [
    {
     "name": "stdout",
     "output_type": "stream",
     "text": [
      "(76473, 5)\n",
      "(32775, 5)\n"
     ]
    }
   ],
   "source": [
    "#Performing one hot encoding on categorical features\n",
    "\n",
    "vectorizer = CountVectorizer()\n",
    "x_train_teacher_prefix_encoded = vectorizer.fit_transform(x_train['teacher_prefix'].values)\n",
    "x_test_teacher_prefix_encoded = vectorizer.fit_transform(x_test['teacher_prefix'].values)\n",
    "\n",
    "#Checking if the train and test data size remains same after applying one hot encoding\n",
    "print(x_train_teacher_prefix_encoded.shape)\n",
    "print(x_test_teacher_prefix_encoded.shape)"
   ]
  },
  {
   "cell_type": "markdown",
   "metadata": {},
   "source": [
    "<h3> 1.4.5 Encoding of categorical features : project_grade_category</h3>"
   ]
  },
  {
   "cell_type": "code",
   "execution_count": 21,
   "metadata": {},
   "outputs": [
    {
     "name": "stdout",
     "output_type": "stream",
     "text": [
      "(76473, 4)\n",
      "(32775, 4)\n"
     ]
    }
   ],
   "source": [
    "#Performing one hot encoding on categorical features\n",
    "\n",
    "vectorizer = CountVectorizer()\n",
    "\n",
    "x_train_project_grade_category_encoded = vectorizer.fit_transform(x_train['project_grade_category'].values)\n",
    "x_test_project_grade_category_encoded = vectorizer.fit_transform(x_test['project_grade_category'].values)\n",
    "\n",
    "#Checking if the train and test data size remains same after applying one hot encoding\n",
    "print(x_train_project_grade_category_encoded.shape)\n",
    "print(x_test_project_grade_category_encoded.shape)"
   ]
  },
  {
   "cell_type": "markdown",
   "metadata": {},
   "source": [
    "<h3> 1.4.6 Encoding of categorical features : clean_categories</h3>"
   ]
  },
  {
   "cell_type": "code",
   "execution_count": 23,
   "metadata": {},
   "outputs": [
    {
     "name": "stdout",
     "output_type": "stream",
     "text": [
      "(76473, 9)\n",
      "(32775, 9)\n"
     ]
    }
   ],
   "source": [
    "#Performing one hot encoding on categorical features\n",
    "\n",
    "vectorizer = CountVectorizer()\n",
    "\n",
    "x_train_clean_categories_encoded = vectorizer.fit_transform(x_train['clean_categories'].values)\n",
    "x_test_clean_categories_encoded = vectorizer.fit_transform(x_test['clean_categories'].values)\n",
    "\n",
    "#Checking if the train and test data size remains same after applying one hot encoding\n",
    "print(x_train_clean_categories_encoded.shape)\n",
    "print(x_test_clean_categories_encoded.shape)"
   ]
  },
  {
   "cell_type": "markdown",
   "metadata": {},
   "source": [
    "<h3> 1.4.7 Encoding of categorical features : clean_subcategories</h3>"
   ]
  },
  {
   "cell_type": "code",
   "execution_count": 24,
   "metadata": {},
   "outputs": [
    {
     "name": "stdout",
     "output_type": "stream",
     "text": [
      "(76473, 30)\n",
      "(32775, 30)\n"
     ]
    }
   ],
   "source": [
    "#Performing one hot encoding on categorical features\n",
    "\n",
    "vectorizer = CountVectorizer()\n",
    "\n",
    "x_train_clean_subcategories_encoded = vectorizer.fit_transform(x_train['clean_subcategories'].values)\n",
    "x_test_clean_subcategories_encoded = vectorizer.fit_transform(x_test['clean_subcategories'].values)\n",
    "\n",
    "#Checking if the train and test data size remains same after applying one hot encoding\n",
    "print(x_train_clean_subcategories_encoded.shape)\n",
    "print(x_test_clean_subcategories_encoded.shape)"
   ]
  },
  {
   "cell_type": "markdown",
   "metadata": {},
   "source": [
    "<h2>1.5 Concatenating features : Set 1 (categorical, numerical features + essay (BOW) </h2>"
   ]
  },
  {
   "cell_type": "code",
   "execution_count": 50,
   "metadata": {},
   "outputs": [
    {
     "name": "stdout",
     "output_type": "stream",
     "text": [
      "Concated Data Matrix\n",
      "(76473, 5101) (76473,)\n",
      "(32775, 5101) (32775,)\n"
     ]
    }
   ],
   "source": [
    "#Using hstack to conact the features\n",
    "from scipy.sparse import hstack\n",
    "x_train_set1 = hstack((x_train_essay_BOW,x_train_no_pre_projects_scaled,x_train_price_scaled,x_train_school_state_encoded,x_train_teacher_prefix_encoded,x_train_project_grade_category_encoded,x_train_clean_categories_encoded,x_train_clean_subcategories_encoded)).tocsr()\n",
    "x_test_set1 = hstack((x_test_essay_BOW,x_test_no_pre_projects_scaled,x_test_price_scaled,x_test_school_state_encoded,x_test_teacher_prefix_encoded,x_test_project_grade_category_encoded,x_test_clean_categories_encoded,x_test_clean_subcategories_encoded)).tocsr()\n",
    "\n",
    "print(\"Concated Data Matrix\")\n",
    "\n",
    "print(x_train_set1.shape,y_train.shape)\n",
    "print(x_test_set1.shape,y_test.shape)"
   ]
  },
  {
   "cell_type": "markdown",
   "metadata": {},
   "source": [
    "<h2>1.8 hyper paramter tuning on Set 1</h2>"
   ]
  },
  {
   "cell_type": "code",
   "execution_count": 76,
   "metadata": {},
   "outputs": [
    {
     "data": {
      "text/plain": [
       "GridSearchCV(cv=5, error_score='raise',\n",
       "       estimator=MultinomialNB(alpha=1.0, class_prior=[0.5, 0.5], fit_prior=True),\n",
       "       fit_params=None, iid=True, n_jobs=1,\n",
       "       param_grid={'alpha': [1e-05, 0.0005, 0.0001, 0.005, 0.001, 0.05, 0.01, 0.1, 0.5, 1, 5, 10, 50, 100, 500, 1000]},\n",
       "       pre_dispatch='2*n_jobs', refit=True, return_train_score=True,\n",
       "       scoring='roc_auc', verbose=0)"
      ]
     },
     "execution_count": 76,
     "metadata": {},
     "output_type": "execute_result"
    }
   ],
   "source": [
    "from sklearn.model_selection import GridSearchCV\n",
    "\n",
    "#https://scikit-learn.org/stable/modules/generated/sklearn.naive_bayes.MultinomialNB.html\n",
    "from sklearn.naive_bayes import MultinomialNB\n",
    "NB_1 = MultinomialNB(class_prior=[0.5,0.5])\n",
    "\n",
    "#Taking alpha  as the parameters for GridSearchCV\n",
    "alpha = [0.00001,0.0005, 0.0001,0.005,0.001,0.05,0.01,0.1,0.5,1,5,10,50,100,500,1000]\n",
    "\n",
    "parameters = {\"alpha\" :[0.00001,0.0005, 0.0001,0.005,0.001,0.05,0.01,0.1,0.5,1,5,10,50,100,500,1000]}\n",
    "\n",
    "clf_1 = GridSearchCV(NB_1, parameters, cv=5, scoring='roc_auc',return_train_score = True)\n",
    "clf_1.fit(x_train_set1,y_train)\n"
   ]
  },
  {
   "cell_type": "code",
   "execution_count": 77,
   "metadata": {},
   "outputs": [
    {
     "name": "stdout",
     "output_type": "stream",
     "text": [
      "best score : 0.7034265123258987\n",
      "best parameter: {'alpha': 0.005}\n"
     ]
    }
   ],
   "source": [
    "#interpreting the results of GridSearchCV\n",
    "#https://scikit-learn.org/stable/modules/generated/sklearn.model_selection.GridSearchCV.html \n",
    "\n",
    "print(\"best score :\",clf_1.best_score_)\n",
    "print(\"best parameter:\",clf_1.best_params_)"
   ]
  },
  {
   "cell_type": "code",
   "execution_count": 78,
   "metadata": {},
   "outputs": [
    {
     "name": "stdout",
     "output_type": "stream",
     "text": [
      "Train AUC scores:\n",
      "[0.74032293 0.74032066 0.74032222 0.74030881 0.7403192  0.74020746\n",
      " 0.74029697 0.74009785 0.73922269 0.73811573 0.72875167 0.7165929\n",
      " 0.64994209 0.61665281 0.51122423 0.50030672]\n",
      "Test AUC scores:\n",
      "[0.70337368 0.70341057 0.70339466 0.70342651 0.70341692 0.70338232\n",
      " 0.70342464 0.70331848 0.70276702 0.70205447 0.69540357 0.6860098\n",
      " 0.63138025 0.60413399 0.51033842 0.50022384]\n"
     ]
    }
   ],
   "source": [
    "#Checking the Train and Test AUC scores\n",
    "#https://scikit-learn.org/stable/modules/generated/sklearn.model_selection.GridSearchCV.html\n",
    "\n",
    "print('Train AUC scores:')\n",
    "print(clf_1.cv_results_['mean_train_score'])\n",
    "\n",
    "print('Test AUC scores:')\n",
    "print(clf_1.cv_results_['mean_test_score'])"
   ]
  },
  {
   "cell_type": "code",
   "execution_count": 79,
   "metadata": {},
   "outputs": [
    {
     "data": {
      "text/html": [
       "<div>\n",
       "<style scoped>\n",
       "    .dataframe tbody tr th:only-of-type {\n",
       "        vertical-align: middle;\n",
       "    }\n",
       "\n",
       "    .dataframe tbody tr th {\n",
       "        vertical-align: top;\n",
       "    }\n",
       "\n",
       "    .dataframe thead th {\n",
       "        text-align: right;\n",
       "    }\n",
       "</style>\n",
       "<table border=\"1\" class=\"dataframe\">\n",
       "  <thead>\n",
       "    <tr style=\"text-align: right;\">\n",
       "      <th></th>\n",
       "      <th>mean_fit_time</th>\n",
       "      <th>std_fit_time</th>\n",
       "      <th>mean_score_time</th>\n",
       "      <th>std_score_time</th>\n",
       "      <th>param_alpha</th>\n",
       "      <th>params</th>\n",
       "      <th>split0_test_score</th>\n",
       "      <th>split1_test_score</th>\n",
       "      <th>split2_test_score</th>\n",
       "      <th>split3_test_score</th>\n",
       "      <th>...</th>\n",
       "      <th>mean_test_score</th>\n",
       "      <th>std_test_score</th>\n",
       "      <th>rank_test_score</th>\n",
       "      <th>split0_train_score</th>\n",
       "      <th>split1_train_score</th>\n",
       "      <th>split2_train_score</th>\n",
       "      <th>split3_train_score</th>\n",
       "      <th>split4_train_score</th>\n",
       "      <th>mean_train_score</th>\n",
       "      <th>std_train_score</th>\n",
       "    </tr>\n",
       "  </thead>\n",
       "  <tbody>\n",
       "    <tr>\n",
       "      <th>0</th>\n",
       "      <td>0.121010</td>\n",
       "      <td>0.008071</td>\n",
       "      <td>0.015630</td>\n",
       "      <td>7.539457e-07</td>\n",
       "      <td>1e-05</td>\n",
       "      <td>{'alpha': 1e-05}</td>\n",
       "      <td>0.702077</td>\n",
       "      <td>0.702394</td>\n",
       "      <td>0.704445</td>\n",
       "      <td>0.706434</td>\n",
       "      <td>...</td>\n",
       "      <td>0.703374</td>\n",
       "      <td>0.001822</td>\n",
       "      <td>7</td>\n",
       "      <td>0.740097</td>\n",
       "      <td>0.739725</td>\n",
       "      <td>0.740390</td>\n",
       "      <td>0.741244</td>\n",
       "      <td>0.740158</td>\n",
       "      <td>0.740323</td>\n",
       "      <td>0.000508</td>\n",
       "    </tr>\n",
       "    <tr>\n",
       "      <th>1</th>\n",
       "      <td>0.128505</td>\n",
       "      <td>0.005597</td>\n",
       "      <td>0.015630</td>\n",
       "      <td>5.560829e-07</td>\n",
       "      <td>0.0005</td>\n",
       "      <td>{'alpha': 0.0005}</td>\n",
       "      <td>0.702077</td>\n",
       "      <td>0.702391</td>\n",
       "      <td>0.704443</td>\n",
       "      <td>0.706434</td>\n",
       "      <td>...</td>\n",
       "      <td>0.703411</td>\n",
       "      <td>0.001785</td>\n",
       "      <td>4</td>\n",
       "      <td>0.740096</td>\n",
       "      <td>0.739720</td>\n",
       "      <td>0.740387</td>\n",
       "      <td>0.741243</td>\n",
       "      <td>0.740157</td>\n",
       "      <td>0.740321</td>\n",
       "      <td>0.000509</td>\n",
       "    </tr>\n",
       "    <tr>\n",
       "      <th>2</th>\n",
       "      <td>0.131330</td>\n",
       "      <td>0.007625</td>\n",
       "      <td>0.012463</td>\n",
       "      <td>6.231797e-03</td>\n",
       "      <td>0.0001</td>\n",
       "      <td>{'alpha': 0.0001}</td>\n",
       "      <td>0.702077</td>\n",
       "      <td>0.702393</td>\n",
       "      <td>0.704445</td>\n",
       "      <td>0.706433</td>\n",
       "      <td>...</td>\n",
       "      <td>0.703395</td>\n",
       "      <td>0.001801</td>\n",
       "      <td>5</td>\n",
       "      <td>0.740097</td>\n",
       "      <td>0.739723</td>\n",
       "      <td>0.740389</td>\n",
       "      <td>0.741244</td>\n",
       "      <td>0.740158</td>\n",
       "      <td>0.740322</td>\n",
       "      <td>0.000508</td>\n",
       "    </tr>\n",
       "    <tr>\n",
       "      <th>3</th>\n",
       "      <td>0.132676</td>\n",
       "      <td>0.007053</td>\n",
       "      <td>0.009378</td>\n",
       "      <td>7.656953e-03</td>\n",
       "      <td>0.005</td>\n",
       "      <td>{'alpha': 0.005}</td>\n",
       "      <td>0.702072</td>\n",
       "      <td>0.702381</td>\n",
       "      <td>0.704435</td>\n",
       "      <td>0.706428</td>\n",
       "      <td>...</td>\n",
       "      <td>0.703427</td>\n",
       "      <td>0.001764</td>\n",
       "      <td>1</td>\n",
       "      <td>0.740086</td>\n",
       "      <td>0.739705</td>\n",
       "      <td>0.740373</td>\n",
       "      <td>0.741233</td>\n",
       "      <td>0.740146</td>\n",
       "      <td>0.740309</td>\n",
       "      <td>0.000510</td>\n",
       "    </tr>\n",
       "    <tr>\n",
       "      <th>4</th>\n",
       "      <td>0.121794</td>\n",
       "      <td>0.006198</td>\n",
       "      <td>0.015626</td>\n",
       "      <td>8.358127e-06</td>\n",
       "      <td>0.001</td>\n",
       "      <td>{'alpha': 0.001}</td>\n",
       "      <td>0.702076</td>\n",
       "      <td>0.702389</td>\n",
       "      <td>0.704442</td>\n",
       "      <td>0.706433</td>\n",
       "      <td>...</td>\n",
       "      <td>0.703417</td>\n",
       "      <td>0.001778</td>\n",
       "      <td>3</td>\n",
       "      <td>0.740095</td>\n",
       "      <td>0.739718</td>\n",
       "      <td>0.740385</td>\n",
       "      <td>0.741242</td>\n",
       "      <td>0.740156</td>\n",
       "      <td>0.740319</td>\n",
       "      <td>0.000509</td>\n",
       "    </tr>\n",
       "  </tbody>\n",
       "</table>\n",
       "<p>5 rows × 21 columns</p>\n",
       "</div>"
      ],
      "text/plain": [
       "   mean_fit_time  std_fit_time  mean_score_time  std_score_time param_alpha  \\\n",
       "0       0.121010      0.008071         0.015630    7.539457e-07       1e-05   \n",
       "1       0.128505      0.005597         0.015630    5.560829e-07      0.0005   \n",
       "2       0.131330      0.007625         0.012463    6.231797e-03      0.0001   \n",
       "3       0.132676      0.007053         0.009378    7.656953e-03       0.005   \n",
       "4       0.121794      0.006198         0.015626    8.358127e-06       0.001   \n",
       "\n",
       "              params  split0_test_score  split1_test_score  split2_test_score  \\\n",
       "0   {'alpha': 1e-05}           0.702077           0.702394           0.704445   \n",
       "1  {'alpha': 0.0005}           0.702077           0.702391           0.704443   \n",
       "2  {'alpha': 0.0001}           0.702077           0.702393           0.704445   \n",
       "3   {'alpha': 0.005}           0.702072           0.702381           0.704435   \n",
       "4   {'alpha': 0.001}           0.702076           0.702389           0.704442   \n",
       "\n",
       "   split3_test_score       ...         mean_test_score  std_test_score  \\\n",
       "0           0.706434       ...                0.703374        0.001822   \n",
       "1           0.706434       ...                0.703411        0.001785   \n",
       "2           0.706433       ...                0.703395        0.001801   \n",
       "3           0.706428       ...                0.703427        0.001764   \n",
       "4           0.706433       ...                0.703417        0.001778   \n",
       "\n",
       "   rank_test_score  split0_train_score  split1_train_score  \\\n",
       "0                7            0.740097            0.739725   \n",
       "1                4            0.740096            0.739720   \n",
       "2                5            0.740097            0.739723   \n",
       "3                1            0.740086            0.739705   \n",
       "4                3            0.740095            0.739718   \n",
       "\n",
       "   split2_train_score  split3_train_score  split4_train_score  \\\n",
       "0            0.740390            0.741244            0.740158   \n",
       "1            0.740387            0.741243            0.740157   \n",
       "2            0.740389            0.741244            0.740158   \n",
       "3            0.740373            0.741233            0.740146   \n",
       "4            0.740385            0.741242            0.740156   \n",
       "\n",
       "   mean_train_score  std_train_score  \n",
       "0          0.740323         0.000508  \n",
       "1          0.740321         0.000509  \n",
       "2          0.740322         0.000508  \n",
       "3          0.740309         0.000510  \n",
       "4          0.740319         0.000509  \n",
       "\n",
       "[5 rows x 21 columns]"
      ]
     },
     "execution_count": 79,
     "metadata": {},
     "output_type": "execute_result"
    }
   ],
   "source": [
    "#creating dataframe to summarize the results of GridSearchCV\n",
    "results = pd.DataFrame.from_dict(clf_1.cv_results_)\n",
    "results.head()"
   ]
  },
  {
   "cell_type": "markdown",
   "metadata": {},
   "source": [
    "<h2>1.9 hyper paramter vs AUC curve </h2>"
   ]
  },
  {
   "cell_type": "code",
   "execution_count": 81,
   "metadata": {},
   "outputs": [
    {
     "data": {
      "image/png": "[encoded data removed]",
      "text/plain": [
       "<Figure size 432x288 with 1 Axes>"
      ]
     },
     "metadata": {
      "needs_background": "light"
     },
     "output_type": "display_data"
    }
   ],
   "source": [
    "#Plotting hyperparameter(alpha) vs AUC curve\n",
    "\n",
    "mean_train_score = clf_1.cv_results_['mean_train_score']\n",
    "mean_test_score = clf_1.cv_results_['mean_test_score']\n",
    "alpha = results[\"param_alpha\"]\n",
    "plt.plot(alpha, mean_train_score, label='Train AUC')\n",
    "plt.plot(alpha, mean_test_score, label='CV AUC')\n",
    "plt.scatter(alpha, mean_train_score, label='Train AUC points')\n",
    "plt.scatter(alpha, mean_test_score, label='CV AUC points')\n",
    "plt.legend()\n",
    "plt.xlabel(\"hyperparameter\")\n",
    "plt.ylabel(\"AUC\")\n",
    "plt.title(\"Hyper parameter Vs AUC\")\n",
    "plt.grid()\n",
    "plt.show()"
   ]
  },
  {
   "cell_type": "markdown",
   "metadata": {},
   "source": [
    "<h3>1.10 Finding best parameters and fit the model </h3>"
   ]
  },
  {
   "cell_type": "code",
   "execution_count": 82,
   "metadata": {},
   "outputs": [
    {
     "name": "stdout",
     "output_type": "stream",
     "text": [
      "alpha=  0.005\n"
     ]
    }
   ],
   "source": [
    "#Finding the best parameters from classifier clf_1\n",
    "\n",
    "best_alpha= clf_1.best_params_['alpha']\n",
    "print(\"alpha= \",best_alpha)"
   ]
  },
  {
   "cell_type": "code",
   "execution_count": 83,
   "metadata": {},
   "outputs": [
    {
     "data": {
      "text/plain": [
       "MultinomialNB(alpha=0.005, class_prior=[0.5, 0.5], fit_prior=True)"
      ]
     },
     "execution_count": 83,
     "metadata": {},
     "output_type": "execute_result"
    }
   ],
   "source": [
    "NB_1 = MultinomialNB(class_prior=[0.5,0.5],alpha = 0.005)\n",
    "NB_1.fit(x_train_set1,y_train)"
   ]
  },
  {
   "cell_type": "markdown",
   "metadata": {},
   "source": [
    "<h3>1.11 Plotting ROC-AUC curve </h3>"
   ]
  },
  {
   "cell_type": "code",
   "execution_count": 85,
   "metadata": {},
   "outputs": [
    {
     "data": {
      "image/png": "[encoded data removed]",
      "text/plain": [
       "<Figure size 432x288 with 1 Axes>"
      ]
     },
     "metadata": {
      "needs_background": "light"
     },
     "output_type": "display_data"
    }
   ],
   "source": [
    "y_train_predicted = NB_1.predict_proba(x_train_set1)[:,1] \n",
    "y_test_predicted = NB_1.predict_proba(x_test_set1)[:,1]\n",
    "ytest_predicted = NB_1.predict(x_test_set1)\n",
    "\n",
    "train_fpr, train_tpr, train_thresholds = roc_curve(y_train, y_train_predicted)\n",
    "test_fpr, test_tpr, test_thresholds = roc_curve(y_test, y_test_predicted)\n",
    "\n",
    "plt.plot(train_fpr, train_tpr,label=\"Train ROC\")\n",
    "plt.plot(test_fpr, test_tpr,label=\"Test ROC\")\n",
    "plt.legend()\n",
    "plt.xlabel(\"FPR\")\n",
    "plt.ylabel(\"TPR\")\n",
    "plt.title(\"ROC curve\")\n",
    "plt.grid()\n",
    "plt.show()"
   ]
  },
  {
   "cell_type": "code",
   "execution_count": 86,
   "metadata": {},
   "outputs": [
    {
     "name": "stdout",
     "output_type": "stream",
     "text": [
      "AUC for train data : 0.7338818530968703\n",
      "AUC for test data : 0.6998742369066834\n"
     ]
    }
   ],
   "source": [
    "#Finding the area under curve ROC = AUC\n",
    "\n",
    "train_AUC = auc(train_fpr, train_tpr)\n",
    "test_AUC = auc(test_fpr, test_tpr)\n",
    "\n",
    "print(\"AUC for train data :\",train_AUC)\n",
    "print(\"AUC for test data :\",test_AUC)"
   ]
  },
  {
   "cell_type": "markdown",
   "metadata": {},
   "source": [
    "<h3>1.12 Confusion Matrix </h3>"
   ]
  },
  {
   "cell_type": "code",
   "execution_count": 88,
   "metadata": {},
   "outputs": [
    {
     "data": {
      "text/plain": [
       "<matplotlib.axes._subplots.AxesSubplot at 0x26c81ca8128>"
      ]
     },
     "execution_count": 88,
     "metadata": {},
     "output_type": "execute_result"
    },
    {
     "data": {
      "image/png": "[encoded data removed]",
      "text/plain": [
       "<Figure size 432x288 with 2 Axes>"
      ]
     },
     "metadata": {
      "needs_background": "light"
     },
     "output_type": "display_data"
    }
   ],
   "source": [
    "from sklearn.metrics import confusion_matrix\n",
    "cm_test = confusion_matrix(y_test, ytest_predicted)\n",
    "sns.heatmap(cm_test, annot=True,fmt=\"d\",xticklabels= ['Predicted No', 'Predicted Yes'], yticklabels= ['Actual No','Actual Yes'])"
   ]
  },
  {
   "cell_type": "code",
   "execution_count": 89,
   "metadata": {},
   "outputs": [
    {
     "name": "stdout",
     "output_type": "stream",
     "text": [
      "1768\n"
     ]
    }
   ],
   "source": [
    "#Getting all the false positive values\n",
    "\n",
    "false_positive_data = []\n",
    "for i in range (len(y_test)):\n",
    "    if (y_test[i] == 0) & (ytest_predicted[i] == 1):\n",
    "        false_positive_data.append(i)\n",
    "\n",
    "#checking if the false positive value count matches with that on confusion matrix\n",
    "print(len(false_positive_data))"
   ]
  },
  {
   "cell_type": "code",
   "execution_count": 90,
   "metadata": {},
   "outputs": [
    {
     "name": "stdout",
     "output_type": "stream",
     "text": [
      "1768\n"
     ]
    }
   ],
   "source": [
    "#getting the corresponding false positive words from \"essay\"\n",
    "false_positive_essay1= []\n",
    "for i in false_positive_data:\n",
    "    false_positive_essay1.append(x_test['essay'].values[i])\n",
    "    \n",
    "#checking if the false positive value count matches with that on confusion matrix    \n",
    "print(len(false_positive_essay1))"
   ]
  },
  {
   "cell_type": "markdown",
   "metadata": {},
   "source": [
    "<h3>1.13 Feature Importances </h3>"
   ]
  },
  {
   "cell_type": "code",
   "execution_count": 123,
   "metadata": {},
   "outputs": [],
   "source": [
    "#listing down the features using CountVectorizer\n",
    "\n",
    "from sklearn.feature_extraction.text import CountVectorizer\n",
    "\n",
    "vectorizer_essay_BOW = CountVectorizer(min_df = 20)\n",
    "vectorizer_essay_BOW.fit(x_train['essay'].values)\n",
    "\n",
    "vectorizer_school_state = CountVectorizer(lowercase=False, binary=True)\n",
    "vectorizer_school_state.fit(x_train['school_state'].values)\n",
    "\n",
    "vectorizer_teacher_prefix = CountVectorizer(lowercase=False, binary=True)\n",
    "vectorizer_teacher_prefix.fit(x_train['teacher_prefix'].values)\n",
    "\n",
    "vectorizer_project_grade_category = CountVectorizer(lowercase=False, binary=True)\n",
    "vectorizer_project_grade_category.fit(x_train['project_grade_category'].values)\n",
    "\n",
    "vectorizer_clean_categories = CountVectorizer(lowercase=False, binary=True)\n",
    "vectorizer_clean_categories.fit(x_train['clean_categories'].values)\n",
    "\n",
    "vectorizer_clean_subcategories = CountVectorizer(lowercase=False, binary=True)\n",
    "vectorizer_clean_subcategories.fit(x_train['clean_subcategories'].values)\n",
    "\n",
    "features_set1 = []\n",
    "for i in vectorizer_essay_BOW.get_feature_names():\n",
    "    features_set1.append(i)\n",
    "for i in vectorizer_school_state.get_feature_names():\n",
    "    features_set1.append(i)\n",
    "for i in vectorizer_teacher_prefix.get_feature_names():\n",
    "    features_set1.append(i)\n",
    "for i in vectorizer_project_grade_category.get_feature_names():\n",
    "    features_set1.append(i)\n",
    "for i in vectorizer_clean_categories.get_feature_names():\n",
    "    features_set1.append(i)\n",
    "for i in vectorizer_clean_subcategories.get_feature_names():\n",
    "    features_set1.append(i)\n",
    "features_set1.append(\"price\")\n",
    "features_set1.append(\"teacher_number_of_previously_posted_projects\")"
   ]
  },
  {
   "cell_type": "code",
   "execution_count": 124,
   "metadata": {},
   "outputs": [
    {
     "name": "stdout",
     "output_type": "stream",
     "text": [
      "Negative Features : Top 20\n",
      "*************************\n",
      "['graded' 'flexible' 'delighted' 'dominican' 'attends' 'driving' 'delays'\n",
      " 'hardcover' 'consumable' 'handshake' 'donations' 'differentiation'\n",
      " 'ignited' 'download' 'improvisation' 'awkward' 'indicate' 'determines'\n",
      " '3rd' 'explorations']\n",
      "Positive Features : Top 20\n",
      "*************************\n",
      "['graded' 'flexible' 'dominican' 'delighted' 'attends' 'handshake'\n",
      " 'driving' 'hardcover' 'delays' 'consumable' 'differentiation' 'donations'\n",
      " 'ignited' 'improvisation' 'download' 'explorations' 'horse' 'indicate'\n",
      " 'determines' 'blessed']\n"
     ]
    }
   ],
   "source": [
    "#https://www.py4u.net/discuss/158155\n",
    "#https://stackoverflow.com/questions/50526898/how-to-get-feature-importance-in-naive-bayes\n",
    "#Getting feature importance using argsort method\n",
    "\n",
    "neg_class_prob_sorted = NB_1.feature_log_prob_[0, :].argsort()[::-1]\n",
    "pos_class_prob_sorted = NB_1.feature_log_prob_[1, :].argsort()[::-1]\n",
    "\n",
    "print(\"Negative Features : Top 20\")\n",
    "print('*'*25)\n",
    "print(np.take(features_set1, neg_class_prob_sorted[:20]))\n",
    "\n",
    "print(\"Positive Features : Top 20\")\n",
    "print('*'*25)\n",
    "print(np.take(features_set1, pos_class_prob_sorted[:20]))"
   ]
  },
  {
   "cell_type": "markdown",
   "metadata": {},
   "source": [
    "<h2>2.1 Concatenating features : Set 2 (categorical, numerical features + essay (TFIDF) </h2>"
   ]
  },
  {
   "cell_type": "code",
   "execution_count": 106,
   "metadata": {},
   "outputs": [
    {
     "name": "stdout",
     "output_type": "stream",
     "text": [
      "Concated Data Matrix\n",
      "(76473, 5101) (76473,)\n",
      "(32775, 5101) (32775,)\n"
     ]
    }
   ],
   "source": [
    "#Using hstack to conact the features\n",
    "from scipy.sparse import hstack\n",
    "x_train_set2 = hstack((x_train_essay_tfidf,x_train_no_pre_projects_scaled,x_train_price_scaled,x_train_school_state_encoded,x_train_teacher_prefix_encoded,x_train_project_grade_category_encoded,x_train_clean_categories_encoded,x_train_clean_subcategories_encoded)).tocsr()\n",
    "x_test_set2 = hstack((x_test_essay_tfidf,x_test_no_pre_projects_scaled,x_test_price_scaled,x_test_school_state_encoded,x_test_teacher_prefix_encoded,x_test_project_grade_category_encoded,x_test_clean_categories_encoded,x_test_clean_subcategories_encoded)).tocsr()\n",
    "\n",
    "print(\"Concated Data Matrix\")\n",
    "\n",
    "print(x_train_set2.shape,y_train.shape)\n",
    "print(x_test_set2.shape,y_test.shape)"
   ]
  },
  {
   "cell_type": "markdown",
   "metadata": {},
   "source": [
    "<h2>2.2 hyper paramter tuning on Set 2</h2>"
   ]
  },
  {
   "cell_type": "code",
   "execution_count": 108,
   "metadata": {},
   "outputs": [
    {
     "data": {
      "text/plain": [
       "GridSearchCV(cv=5, error_score='raise',\n",
       "       estimator=MultinomialNB(alpha=1.0, class_prior=[0.5, 0.5], fit_prior=True),\n",
       "       fit_params=None, iid=True, n_jobs=1,\n",
       "       param_grid={'alpha': [1e-05, 0.0005, 0.0001, 0.005, 0.001, 0.05, 0.01, 0.1, 0.5, 1, 5, 10, 50, 100, 500, 1000]},\n",
       "       pre_dispatch='2*n_jobs', refit=True, return_train_score=True,\n",
       "       scoring='roc_auc', verbose=0)"
      ]
     },
     "execution_count": 108,
     "metadata": {},
     "output_type": "execute_result"
    }
   ],
   "source": [
    "from sklearn.model_selection import GridSearchCV\n",
    "\n",
    "#https://scikit-learn.org/stable/modules/generated/sklearn.naive_bayes.MultinomialNB.html\n",
    "from sklearn.naive_bayes import MultinomialNB\n",
    "NB_2 = MultinomialNB(class_prior=[0.5,0.5])\n",
    "\n",
    "#Taking alpha  as the parameters for GridSearchCV\n",
    "alpha = [0.00001,0.0005, 0.0001,0.005,0.001,0.05,0.01,0.1,0.5,1,5,10,50,100,500,1000]\n",
    "\n",
    "parameters = {\"alpha\" :[0.00001,0.0005, 0.0001,0.005,0.001,0.05,0.01,0.1,0.5,1,5,10,50,100,500,1000]}\n",
    "\n",
    "clf_2 = GridSearchCV(NB_2, parameters, cv=5, scoring='roc_auc',return_train_score = True)\n",
    "clf_2.fit(x_train_set2,y_train)"
   ]
  },
  {
   "cell_type": "code",
   "execution_count": 109,
   "metadata": {},
   "outputs": [
    {
     "name": "stdout",
     "output_type": "stream",
     "text": [
      "best score : 0.6768262488342427\n",
      "best parameter: {'alpha': 1e-05}\n"
     ]
    }
   ],
   "source": [
    "#interpreting the results of GridSearchCV\n",
    "#https://scikit-learn.org/stable/modules/generated/sklearn.model_selection.GridSearchCV.html \n",
    "\n",
    "print(\"best score :\",clf_2.best_score_)\n",
    "print(\"best parameter:\",clf_2.best_params_)"
   ]
  },
  {
   "cell_type": "code",
   "execution_count": 110,
   "metadata": {},
   "outputs": [
    {
     "name": "stdout",
     "output_type": "stream",
     "text": [
      "Train AUC scores:\n",
      "[0.71585853 0.71584661 0.71585586 0.7157482  0.71583542 0.71478954\n",
      " 0.71564099 0.7137312  0.70531526 0.69509396 0.63717504 0.60363528\n",
      " 0.55332092 0.5441651  0.53701655 0.53737063]\n",
      "Test AUC scores:\n",
      "[0.67682625 0.67681866 0.67682447 0.67675258 0.67681076 0.67612002\n",
      " 0.67668136 0.67541696 0.66948494 0.66181213 0.61557216 0.58819789\n",
      " 0.5478197  0.54073198 0.53588959 0.53667438]\n"
     ]
    }
   ],
   "source": [
    "#Checking the Train and Test AUC scores\n",
    "#https://scikit-learn.org/stable/modules/generated/sklearn.model_selection.GridSearchCV.html\n",
    "\n",
    "print('Train AUC scores:')\n",
    "print(clf_2.cv_results_['mean_train_score'])\n",
    "\n",
    "print('Test AUC scores:')\n",
    "print(clf_2.cv_results_['mean_test_score'])"
   ]
  },
  {
   "cell_type": "code",
   "execution_count": 111,
   "metadata": {
    "id": "_8krAN5a1Xcb"
   },
   "outputs": [
    {
     "data": {
      "text/html": [
       "<div>\n",
       "<style scoped>\n",
       "    .dataframe tbody tr th:only-of-type {\n",
       "        vertical-align: middle;\n",
       "    }\n",
       "\n",
       "    .dataframe tbody tr th {\n",
       "        vertical-align: top;\n",
       "    }\n",
       "\n",
       "    .dataframe thead th {\n",
       "        text-align: right;\n",
       "    }\n",
       "</style>\n",
       "<table border=\"1\" class=\"dataframe\">\n",
       "  <thead>\n",
       "    <tr style=\"text-align: right;\">\n",
       "      <th></th>\n",
       "      <th>mean_fit_time</th>\n",
       "      <th>std_fit_time</th>\n",
       "      <th>mean_score_time</th>\n",
       "      <th>std_score_time</th>\n",
       "      <th>param_alpha</th>\n",
       "      <th>params</th>\n",
       "      <th>split0_test_score</th>\n",
       "      <th>split1_test_score</th>\n",
       "      <th>split2_test_score</th>\n",
       "      <th>split3_test_score</th>\n",
       "      <th>...</th>\n",
       "      <th>mean_test_score</th>\n",
       "      <th>std_test_score</th>\n",
       "      <th>rank_test_score</th>\n",
       "      <th>split0_train_score</th>\n",
       "      <th>split1_train_score</th>\n",
       "      <th>split2_train_score</th>\n",
       "      <th>split3_train_score</th>\n",
       "      <th>split4_train_score</th>\n",
       "      <th>mean_train_score</th>\n",
       "      <th>std_train_score</th>\n",
       "    </tr>\n",
       "  </thead>\n",
       "  <tbody>\n",
       "    <tr>\n",
       "      <th>0</th>\n",
       "      <td>0.115307</td>\n",
       "      <td>0.007972</td>\n",
       "      <td>0.015630</td>\n",
       "      <td>0.000002</td>\n",
       "      <td>1e-05</td>\n",
       "      <td>{'alpha': 1e-05}</td>\n",
       "      <td>0.671511</td>\n",
       "      <td>0.676239</td>\n",
       "      <td>0.677755</td>\n",
       "      <td>0.678983</td>\n",
       "      <td>...</td>\n",
       "      <td>0.676826</td>\n",
       "      <td>0.002900</td>\n",
       "      <td>1</td>\n",
       "      <td>0.716906</td>\n",
       "      <td>0.714907</td>\n",
       "      <td>0.716095</td>\n",
       "      <td>0.715900</td>\n",
       "      <td>0.715485</td>\n",
       "      <td>0.715859</td>\n",
       "      <td>0.000663</td>\n",
       "    </tr>\n",
       "    <tr>\n",
       "      <th>1</th>\n",
       "      <td>0.128625</td>\n",
       "      <td>0.004298</td>\n",
       "      <td>0.011112</td>\n",
       "      <td>0.005773</td>\n",
       "      <td>0.0005</td>\n",
       "      <td>{'alpha': 0.0005}</td>\n",
       "      <td>0.671504</td>\n",
       "      <td>0.676236</td>\n",
       "      <td>0.677743</td>\n",
       "      <td>0.678976</td>\n",
       "      <td>...</td>\n",
       "      <td>0.676819</td>\n",
       "      <td>0.002899</td>\n",
       "      <td>3</td>\n",
       "      <td>0.716896</td>\n",
       "      <td>0.714893</td>\n",
       "      <td>0.716080</td>\n",
       "      <td>0.715889</td>\n",
       "      <td>0.715475</td>\n",
       "      <td>0.715847</td>\n",
       "      <td>0.000664</td>\n",
       "    </tr>\n",
       "    <tr>\n",
       "      <th>2</th>\n",
       "      <td>0.125037</td>\n",
       "      <td>0.000002</td>\n",
       "      <td>0.015631</td>\n",
       "      <td>0.000002</td>\n",
       "      <td>0.0001</td>\n",
       "      <td>{'alpha': 0.0001}</td>\n",
       "      <td>0.671509</td>\n",
       "      <td>0.676239</td>\n",
       "      <td>0.677751</td>\n",
       "      <td>0.678982</td>\n",
       "      <td>...</td>\n",
       "      <td>0.676824</td>\n",
       "      <td>0.002900</td>\n",
       "      <td>2</td>\n",
       "      <td>0.716904</td>\n",
       "      <td>0.714903</td>\n",
       "      <td>0.716091</td>\n",
       "      <td>0.715898</td>\n",
       "      <td>0.715483</td>\n",
       "      <td>0.715856</td>\n",
       "      <td>0.000664</td>\n",
       "    </tr>\n",
       "    <tr>\n",
       "      <th>3</th>\n",
       "      <td>0.115628</td>\n",
       "      <td>0.007602</td>\n",
       "      <td>0.012500</td>\n",
       "      <td>0.006250</td>\n",
       "      <td>0.005</td>\n",
       "      <td>{'alpha': 0.005}</td>\n",
       "      <td>0.671441</td>\n",
       "      <td>0.676163</td>\n",
       "      <td>0.677666</td>\n",
       "      <td>0.678918</td>\n",
       "      <td>...</td>\n",
       "      <td>0.676753</td>\n",
       "      <td>0.002900</td>\n",
       "      <td>5</td>\n",
       "      <td>0.716800</td>\n",
       "      <td>0.714792</td>\n",
       "      <td>0.715979</td>\n",
       "      <td>0.715789</td>\n",
       "      <td>0.715380</td>\n",
       "      <td>0.715748</td>\n",
       "      <td>0.000665</td>\n",
       "    </tr>\n",
       "    <tr>\n",
       "      <th>4</th>\n",
       "      <td>0.124994</td>\n",
       "      <td>0.000079</td>\n",
       "      <td>0.009418</td>\n",
       "      <td>0.007690</td>\n",
       "      <td>0.001</td>\n",
       "      <td>{'alpha': 0.001}</td>\n",
       "      <td>0.671496</td>\n",
       "      <td>0.676227</td>\n",
       "      <td>0.677733</td>\n",
       "      <td>0.678968</td>\n",
       "      <td>...</td>\n",
       "      <td>0.676811</td>\n",
       "      <td>0.002900</td>\n",
       "      <td>4</td>\n",
       "      <td>0.716885</td>\n",
       "      <td>0.714882</td>\n",
       "      <td>0.716068</td>\n",
       "      <td>0.715878</td>\n",
       "      <td>0.715464</td>\n",
       "      <td>0.715835</td>\n",
       "      <td>0.000664</td>\n",
       "    </tr>\n",
       "  </tbody>\n",
       "</table>\n",
       "<p>5 rows × 21 columns</p>\n",
       "</div>"
      ],
      "text/plain": [
       "   mean_fit_time  std_fit_time  mean_score_time  std_score_time param_alpha  \\\n",
       "0       0.115307      0.007972         0.015630        0.000002       1e-05   \n",
       "1       0.128625      0.004298         0.011112        0.005773      0.0005   \n",
       "2       0.125037      0.000002         0.015631        0.000002      0.0001   \n",
       "3       0.115628      0.007602         0.012500        0.006250       0.005   \n",
       "4       0.124994      0.000079         0.009418        0.007690       0.001   \n",
       "\n",
       "              params  split0_test_score  split1_test_score  split2_test_score  \\\n",
       "0   {'alpha': 1e-05}           0.671511           0.676239           0.677755   \n",
       "1  {'alpha': 0.0005}           0.671504           0.676236           0.677743   \n",
       "2  {'alpha': 0.0001}           0.671509           0.676239           0.677751   \n",
       "3   {'alpha': 0.005}           0.671441           0.676163           0.677666   \n",
       "4   {'alpha': 0.001}           0.671496           0.676227           0.677733   \n",
       "\n",
       "   split3_test_score       ...         mean_test_score  std_test_score  \\\n",
       "0           0.678983       ...                0.676826        0.002900   \n",
       "1           0.678976       ...                0.676819        0.002899   \n",
       "2           0.678982       ...                0.676824        0.002900   \n",
       "3           0.678918       ...                0.676753        0.002900   \n",
       "4           0.678968       ...                0.676811        0.002900   \n",
       "\n",
       "   rank_test_score  split0_train_score  split1_train_score  \\\n",
       "0                1            0.716906            0.714907   \n",
       "1                3            0.716896            0.714893   \n",
       "2                2            0.716904            0.714903   \n",
       "3                5            0.716800            0.714792   \n",
       "4                4            0.716885            0.714882   \n",
       "\n",
       "   split2_train_score  split3_train_score  split4_train_score  \\\n",
       "0            0.716095            0.715900            0.715485   \n",
       "1            0.716080            0.715889            0.715475   \n",
       "2            0.716091            0.715898            0.715483   \n",
       "3            0.715979            0.715789            0.715380   \n",
       "4            0.716068            0.715878            0.715464   \n",
       "\n",
       "   mean_train_score  std_train_score  \n",
       "0          0.715859         0.000663  \n",
       "1          0.715847         0.000664  \n",
       "2          0.715856         0.000664  \n",
       "3          0.715748         0.000665  \n",
       "4          0.715835         0.000664  \n",
       "\n",
       "[5 rows x 21 columns]"
      ]
     },
     "execution_count": 111,
     "metadata": {},
     "output_type": "execute_result"
    }
   ],
   "source": [
    "#creating dataframe to summarize the results of GridSearchCV\n",
    "results = pd.DataFrame.from_dict(clf_2.cv_results_)\n",
    "results.head()"
   ]
  },
  {
   "cell_type": "markdown",
   "metadata": {
    "id": "UlUrz9Hc1Xcl"
   },
   "source": [
    "<h2>2.3 hyper paramter vs AUC curve </h2>"
   ]
  },
  {
   "cell_type": "code",
   "execution_count": 112,
   "metadata": {
    "id": "MPfhoIhJ1Xcm"
   },
   "outputs": [
    {
     "data": {
      "image/png": "[encoded data removed]",
      "text/plain": [
       "<Figure size 432x288 with 1 Axes>"
      ]
     },
     "metadata": {
      "needs_background": "light"
     },
     "output_type": "display_data"
    }
   ],
   "source": [
    "#Plotting hyperparameter(alpha) vs AUC curve\n",
    "\n",
    "mean_train_score = clf_2.cv_results_['mean_train_score']\n",
    "mean_test_score = clf_2.cv_results_['mean_test_score']\n",
    "alpha = results[\"param_alpha\"]\n",
    "plt.plot(alpha, mean_train_score, label='Train AUC')\n",
    "plt.plot(alpha, mean_test_score, label='CV AUC')\n",
    "plt.scatter(alpha, mean_train_score, label='Train AUC points')\n",
    "plt.scatter(alpha, mean_test_score, label='CV AUC points')\n",
    "plt.legend()\n",
    "plt.xlabel(\"hyperparameter\")\n",
    "plt.ylabel(\"AUC\")\n",
    "plt.title(\"Hyper parameter Vs AUC\")\n",
    "plt.grid()\n",
    "plt.show()"
   ]
  },
  {
   "cell_type": "markdown",
   "metadata": {
    "id": "tquers2c1Xcm"
   },
   "source": [
    "<h3>2.4 Finding best parameters and fit the model </h3>"
   ]
  },
  {
   "cell_type": "code",
   "execution_count": 113,
   "metadata": {
    "id": "D6Kdbpdg1Xcn"
   },
   "outputs": [
    {
     "name": "stdout",
     "output_type": "stream",
     "text": [
      "alpha=  1e-05\n"
     ]
    }
   ],
   "source": [
    "#Finding the best parameters from classifier clf_1\n",
    "\n",
    "best_alpha= clf_1.best_params_['alpha']\n",
    "print(\"alpha= \",best_alpha)"
   ]
  },
  {
   "cell_type": "code",
   "execution_count": 114,
   "metadata": {
    "id": "mK0OtaHz1Xco"
   },
   "outputs": [
    {
     "data": {
      "text/plain": [
       "MultinomialNB(alpha=1e-05, class_prior=[0.5, 0.5], fit_prior=True)"
      ]
     },
     "execution_count": 114,
     "metadata": {},
     "output_type": "execute_result"
    }
   ],
   "source": [
    "NB_2 = MultinomialNB(class_prior=[0.5,0.5],alpha = 1e-05)\n",
    "NB_2.fit(x_train_set2,y_train)"
   ]
  },
  {
   "cell_type": "markdown",
   "metadata": {
    "id": "ezpe9Wg01Xcp"
   },
   "source": [
    "<h3>2.5 Plotting ROC-AUC curve </h3>"
   ]
  },
  {
   "cell_type": "code",
   "execution_count": 115,
   "metadata": {
    "id": "tuyweWBM1Xcp"
   },
   "outputs": [
    {
     "data": {
      "image/png": "[encoded data removed]",
      "text/plain": [
       "<Figure size 432x288 with 1 Axes>"
      ]
     },
     "metadata": {
      "needs_background": "light"
     },
     "output_type": "display_data"
    }
   ],
   "source": [
    "y_train_predicted = NB_2.predict_proba(x_train_set2)[:,1] \n",
    "y_test_predicted = NB_2.predict_proba(x_test_set2)[:,1]\n",
    "ytest_predicted = NB_2.predict(x_test_set2)\n",
    "\n",
    "train_fpr, train_tpr, train_thresholds = roc_curve(y_train, y_train_predicted)\n",
    "test_fpr, test_tpr, test_thresholds = roc_curve(y_test, y_test_predicted)\n",
    "\n",
    "plt.plot(train_fpr, train_tpr,label=\"Train ROC\")\n",
    "plt.plot(test_fpr, test_tpr,label=\"Test ROC\")\n",
    "plt.legend()\n",
    "plt.xlabel(\"FPR\")\n",
    "plt.ylabel(\"TPR\")\n",
    "plt.title(\"ROC curve\")\n",
    "plt.grid()\n",
    "plt.show()"
   ]
  },
  {
   "cell_type": "code",
   "execution_count": 116,
   "metadata": {
    "id": "Qeo8UWHb1Xcq"
   },
   "outputs": [
    {
     "name": "stdout",
     "output_type": "stream",
     "text": [
      "AUC for train data : 0.7092771760077932\n",
      "AUC for test data : 0.6738653972663929\n"
     ]
    }
   ],
   "source": [
    "#Finding the area under curve ROC = AUC\n",
    "\n",
    "train_AUC = auc(train_fpr, train_tpr)\n",
    "test_AUC = auc(test_fpr, test_tpr)\n",
    "\n",
    "print(\"AUC for train data :\",train_AUC)\n",
    "print(\"AUC for test data :\",test_AUC)"
   ]
  },
  {
   "cell_type": "markdown",
   "metadata": {
    "id": "0BK1lYl11Xcr"
   },
   "source": [
    "<h3>2.6 Confusion Matrix </h3>"
   ]
  },
  {
   "cell_type": "code",
   "execution_count": 118,
   "metadata": {},
   "outputs": [
    {
     "data": {
      "text/plain": [
       "<matplotlib.axes._subplots.AxesSubplot at 0x26c87d2aa58>"
      ]
     },
     "execution_count": 118,
     "metadata": {},
     "output_type": "execute_result"
    },
    {
     "data": {
      "image/png": "[encoded data removed]",
      "text/plain": [
       "<Figure size 432x288 with 2 Axes>"
      ]
     },
     "metadata": {
      "needs_background": "light"
     },
     "output_type": "display_data"
    }
   ],
   "source": [
    "from sklearn.metrics import confusion_matrix\n",
    "cm_test = confusion_matrix(y_test, ytest_predicted)\n",
    "sns.heatmap(cm_test, annot=True,fmt=\"d\",xticklabels= ['Predicted No', 'Predicted Yes'], yticklabels= ['Actual No','Actual Yes'])"
   ]
  },
  {
   "cell_type": "code",
   "execution_count": 119,
   "metadata": {},
   "outputs": [
    {
     "name": "stdout",
     "output_type": "stream",
     "text": [
      "1878\n"
     ]
    }
   ],
   "source": [
    "#Getting all the false positive values\n",
    "\n",
    "false_positive_data = []\n",
    "for i in range (len(y_test)):\n",
    "    if (y_test[i] == 0) & (ytest_predicted[i] == 1):\n",
    "        false_positive_data.append(i)\n",
    "\n",
    "#checking if the false positive value count matches with that on confusion matrix\n",
    "print(len(false_positive_data))"
   ]
  },
  {
   "cell_type": "code",
   "execution_count": 120,
   "metadata": {},
   "outputs": [
    {
     "name": "stdout",
     "output_type": "stream",
     "text": [
      "1878\n"
     ]
    }
   ],
   "source": [
    "#getting the corresponding false positive words from \"essay\"\n",
    "false_positive_essay1= []\n",
    "for i in false_positive_data:\n",
    "    false_positive_essay1.append(x_test['essay'].values[i])\n",
    "    \n",
    "#checking if the false positive value count matches with that on confusion matrix    \n",
    "print(len(false_positive_essay1))"
   ]
  },
  {
   "cell_type": "markdown",
   "metadata": {},
   "source": [
    "<h3>2.7 Feature Importances </h3>"
   ]
  },
  {
   "cell_type": "code",
   "execution_count": 131,
   "metadata": {},
   "outputs": [],
   "source": [
    "#listing down the essay features using TfidfVectorizer\n",
    "#Other features are already listed\n",
    "\n",
    "from sklearn.feature_extraction.text import TfidfVectorizer\n",
    "\n",
    "vectorizer_essay_tfidf = CountVectorizer(min_df = 20)\n",
    "vectorizer_essay_tfidf.fit(x_train['essay'].values)\n",
    "\n",
    "vectorizer_school_state = CountVectorizer(lowercase=False, binary=True)\n",
    "vectorizer_school_state.fit(x_train['school_state'].values)\n",
    "\n",
    "vectorizer_teacher_prefix = CountVectorizer(lowercase=False, binary=True)\n",
    "vectorizer_teacher_prefix.fit(x_train['teacher_prefix'].values)\n",
    "\n",
    "vectorizer_project_grade_category = CountVectorizer(lowercase=False, binary=True)\n",
    "vectorizer_project_grade_category.fit(x_train['project_grade_category'].values)\n",
    "\n",
    "vectorizer_clean_categories = CountVectorizer(lowercase=False, binary=True)\n",
    "vectorizer_clean_categories.fit(x_train['clean_categories'].values)\n",
    "\n",
    "vectorizer_clean_subcategories = CountVectorizer(lowercase=False, binary=True)\n",
    "vectorizer_clean_subcategories.fit(x_train['clean_subcategories'].values)\n",
    "\n",
    "features_set2 = []\n",
    "for i in vectorizer_essay_tfidf.get_feature_names():\n",
    "    features_set2.append(i)\n",
    "for i in vectorizer_school_state.get_feature_names():\n",
    "    features_set2.append(i)\n",
    "for i in vectorizer_teacher_prefix.get_feature_names():\n",
    "    features_set2.append(i)\n",
    "for i in vectorizer_project_grade_category.get_feature_names():\n",
    "    features_set2.append(i)\n",
    "for i in vectorizer_clean_categories.get_feature_names():\n",
    "    features_set2.append(i)\n",
    "for i in vectorizer_clean_subcategories.get_feature_names():\n",
    "    features_set2.append(i)\n",
    "features_set2.append(\"price\")\n",
    "features_set2.append(\"teacher_number_of_previously_posted_projects\")"
   ]
  },
  {
   "cell_type": "code",
   "execution_count": 132,
   "metadata": {},
   "outputs": [
    {
     "name": "stdout",
     "output_type": "stream",
     "text": [
      "Negative Features : Top 20\n",
      "*************************\n",
      "['indicate' 'infusion' 'initial' 'inherently' 'initially' 'ingenuity'\n",
      " 'ingredients' 'input' 'inquire' 'inputs' 'inhabit' 'graded' 'ins'\n",
      " 'initiated' 'indigenous' 'inhibit' 'inherit' 'initiatives' 'inherent'\n",
      " 'infusing']\n",
      "Positive Features : Top 20\n",
      "*************************\n",
      "['indicate' 'infusion' 'initial' 'inherently' 'initially' 'ingenuity'\n",
      " 'ingredients' 'input' 'inquire' 'inputs' 'inhabit' 'indigenous' 'graded'\n",
      " 'inhibit' 'ins' 'initiated' 'inherit' 'inherent' 'infusing' 'initiatives']\n"
     ]
    }
   ],
   "source": [
    "#https://www.py4u.net/discuss/158155\n",
    "#https://stackoverflow.com/questions/50526898/how-to-get-feature-importance-in-naive-bayes\n",
    "#Getting feature importance using argsort method\n",
    "\n",
    "neg_class_prob_sorted = NB_2.feature_log_prob_[0, :].argsort()[::-1]\n",
    "pos_class_prob_sorted = NB_2.feature_log_prob_[1, :].argsort()[::-1]\n",
    "\n",
    "print(\"Negative Features : Top 20\")\n",
    "print('*'*25)\n",
    "print(np.take(features_set2, neg_class_prob_sorted[:20]))\n",
    "\n",
    "print(\"Positive Features : Top 20\")\n",
    "print('*'*25)\n",
    "print(np.take(features_set2, pos_class_prob_sorted[:20]))"
   ]
  },
  {
   "cell_type": "markdown",
   "metadata": {
    "id": "lS9hIHdib3dp"
   },
   "source": [
    "<h1>3. Summary</h1>\n"
   ]
  },
  {
   "cell_type": "code",
   "execution_count": 133,
   "metadata": {
    "id": "QQomhyKl1Xcs"
   },
   "outputs": [
    {
     "name": "stdout",
     "output_type": "stream",
     "text": [
      "+------------+-------+-------+----------+\n",
      "| Vectorizer | Model | alpha | test_AUC |\n",
      "+------------+-------+-------+----------+\n",
      "|    BOW     |   NB  | 0.005 |  0.703   |\n",
      "|   TFIDF    |   NB  | 1e-05 |  0.677   |\n",
      "+------------+-------+-------+----------+\n"
     ]
    }
   ],
   "source": [
    "#Tabulating the results using PtrettyTable\n",
    "#https://pypi.org/project/prettytable/\n",
    "\n",
    "from prettytable import PrettyTable\n",
    "x = PrettyTable()\n",
    "\n",
    "x.field_names = [\"Vectorizer\", \"Model\", \"alpha\",\"test_AUC\"]\n",
    "x.add_row([\"BOW\", \"NB\",\"0.005\" ,\"0.703\"])\n",
    "x.add_row([\"TFIDF\", \"NB\", \"1e-05\" ,\"0.677\"])\n",
    "print(x)"
   ]
  }
 ],
 "metadata": {
  "colab": {
   "collapsed_sections": [],
   "name": "NB_Assignment_instructions.ipynb",
   "provenance": []
  },
  "kernelspec": {
   "display_name": "Python 3",
   "language": "python",
   "name": "python3"
  },
  "language_info": {
   "codemirror_mode": {
    "name": "ipython",
    "version": 3
   },
   "file_extension": ".py",
   "mimetype": "text/x-python",
   "name": "python",
   "nbconvert_exporter": "python",
   "pygments_lexer": "ipython3",
   "version": "3.6.5"
  }
 },
 "nbformat": 4,
 "nbformat_minor": 1
}
